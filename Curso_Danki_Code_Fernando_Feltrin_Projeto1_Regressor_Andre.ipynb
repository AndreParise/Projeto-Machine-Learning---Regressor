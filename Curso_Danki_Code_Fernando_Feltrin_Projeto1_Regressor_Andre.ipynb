{
  "nbformat": 4,
  "nbformat_minor": 0,
  "metadata": {
    "colab": {
      "provenance": [],
      "gpuClass": "premium",
      "gpuType": "T4",
      "include_colab_link": true
    },
    "kernelspec": {
      "name": "python3",
      "display_name": "Python 3"
    },
    "language_info": {
      "name": "python"
    },
    "accelerator": "GPU"
  },
  "cells": [
    {
      "cell_type": "markdown",
      "metadata": {
        "id": "view-in-github",
        "colab_type": "text"
      },
      "source": [
        "<a href=\"https://colab.research.google.com/github/AndreParise/Projeto-Machine-Learning---Regressor/blob/main/Curso_Danki_Code_Fernando_Feltrin_Projeto1_Regressor_Andre.ipynb\" target=\"_parent\"><img src=\"https://colab.research.google.com/assets/colab-badge.svg\" alt=\"Open In Colab\"/></a>"
      ]
    },
    {
      "cell_type": "markdown",
      "source": [
        "# Instalação das Dependências"
      ],
      "metadata": {
        "id": "61MPcLTu78RX"
      }
    },
    {
      "cell_type": "code",
      "source": [
        "#!pip install -q -U tensorflow  # Instalaria o TensorFlow (mas está comentado)\n",
        "!pip install -q -U keras  # Instalaria o Keras (mas está comentado)\n",
        "#!pip install -q -U numpy  # Instalaria o NumPy (mas está comentado)\n",
        "#!pip install -q -U pandas  # Instalaria o Pandas (mas está comentado)\n",
        "\n",
        "!pip install -q -U tensorflow-addons  # Instala o TensorFlow Addons ✅\n",
        "!pip install -q -U keras-utils  # Instala utilitários do Keras ✅\n",
        "\n"
      ],
      "metadata": {
        "id": "I4n9YAPT7hz_",
        "colab": {
          "base_uri": "https://localhost:8080/"
        },
        "outputId": "1f5442b0-e815-4d2c-8f61-8052d3b2f574"
      },
      "execution_count": 1,
      "outputs": [
        {
          "output_type": "stream",
          "name": "stdout",
          "text": [
            "\u001b[2K   \u001b[90m━━━━━━━━━━━━━━━━━━━━━━━━━━━━━━━━━━━━━━━━\u001b[0m \u001b[32m1.3/1.3 MB\u001b[0m \u001b[31m19.9 MB/s\u001b[0m eta \u001b[36m0:00:00\u001b[0m\n",
            "\u001b[2K   \u001b[90m━━━━━━━━━━━━━━━━━━━━━━━━━━━━━━━━━━━━━━━━\u001b[0m \u001b[32m611.8/611.8 kB\u001b[0m \u001b[31m18.2 MB/s\u001b[0m eta \u001b[36m0:00:00\u001b[0m\n",
            "\u001b[?25h\u001b[31mERROR: pip's dependency resolver does not currently take into account all the packages that are installed. This behaviour is the source of the following dependency conflicts.\n",
            "inflect 7.5.0 requires typeguard>=4.0.1, but you have typeguard 2.13.3 which is incompatible.\u001b[0m\u001b[31m\n",
            "\u001b[0m  Preparing metadata (setup.py) ... \u001b[?25l\u001b[?25hdone\n",
            "  Building wheel for keras-utils (setup.py) ... \u001b[?25l\u001b[?25hdone\n"
          ]
        }
      ]
    },
    {
      "cell_type": "markdown",
      "source": [
        "### 📌 **Explicação do Código: Instalação de Dependências**  \n",
        "\n",
        "Este trecho de código instala bibliotecas essenciais para o uso de redes neurais e aprendizado de máquina. Vamos entender linha por linha! 🚀  \n",
        "\n",
        "---\n",
        "\n",
        "## 🔹 **Comentários no Código**\n",
        "```python\n",
        "#!pip install -q -U tensorflow  # Instalaria o TensorFlow (mas está comentado)\n",
        "#!pip install -q -U keras  # Instalaria o Keras (mas está comentado)\n",
        "#!pip install -q -U numpy  # Instalaria o NumPy (mas está comentado)\n",
        "#!pip install -q -U pandas  # Instalaria o Pandas (mas está comentado)\n",
        "\n",
        "!pip install -q -U tensorflow-addons  # Instala o TensorFlow Addons ✅\n",
        "!pip install -q -U keras-utils  # Instala utilitários do Keras ✅\n",
        "```\n",
        "---\n",
        "\n",
        "### 🛠️ **Explicação de Cada Linha**\n",
        "#### 🚫 **Linhas Comentadas**\n",
        "- As primeiras linhas usam `#`, o que significa que **estão desativadas** (não serão executadas).  \n",
        "- Se você remover o `#`, elas irão instalar:\n",
        "  - **TensorFlow** → Biblioteca principal para aprendizado de máquina 🤖.  \n",
        "  - **Keras** → API para construir redes neurais 🧠.  \n",
        "  - **NumPy** → Biblioteca para trabalhar com arrays matemáticos 🔢.  \n",
        "  - **Pandas** → Biblioteca para manipulação de dados 📊.  \n",
        "\n",
        "#### ✅ **Linhas Ativas**\n",
        "- `!pip install -q -U tensorflow-addons`  \n",
        "  - Instala **TensorFlow Addons**, um conjunto de ferramentas extras para melhorar redes neurais ⚡.  \n",
        "\n",
        "- `!pip install -q -U keras-utils`  \n",
        "  - Instala **Keras Utils**, que fornece funções auxiliares para redes neurais 📌.  \n",
        "\n",
        "---\n",
        "\n",
        "### 🎯 **O que significa cada comando?**\n",
        "- `!pip install` → Instala um pacote no Python.  \n",
        "- `-q` → **Modo silencioso**, oculta mensagens longas durante a instalação 🤫.  \n",
        "- `-U` → **Atualiza para a versão mais recente** 🚀.  \n",
        "\n",
        "---\n",
        "\n",
        "### 🏆 **Resumo**\n",
        "✅ Esse código instala **dependências essenciais** para rodar modelos de IA.  \n",
        "✅ Linhas com `#` estão **desativadas** e podem ser ativadas removendo o `#`.  \n",
        "✅ TensorFlow e Keras são usados para criar **redes neurais** 🧠.  \n",
        "✅ NumPy e Pandas são usados para **manipulação de dados** 🔢📊.  \n",
        "✅ TensorFlow Addons e Keras Utils adicionam **recursos extras** ⚡.  \n",
        "\n",
        "---\n",
        "---\n"
      ],
      "metadata": {
        "id": "_yeE3kzAN6rW"
      }
    },
    {
      "cell_type": "code",
      "source": [
        "import os  # Biblioteca para manipulação de arquivos e diretórios 📂\n",
        "import keras  # Biblioteca para construção de redes neurais 🧠\n",
        "import numpy as np  # Biblioteca para operações matemáticas e manipulação de arrays 🔢\n",
        "import cv2  # OpenCV: Processamento de imagens e visão computacional 📸\n",
        "import PIL  # Biblioteca para abrir e manipular imagens 🖼️\n",
        "import glob  # Biblioteca para buscar arquivos no sistema 🔍\n",
        "import matplotlib.pyplot as plt  # Biblioteca para gráficos e visualização 📊\n",
        "import tensorflow as tf  # Biblioteca para aprendizado de máquina e redes neurais 🤖\n",
        "from math import sqrt  # Importa a função de raiz quadrada 🧮\n",
        "from PIL import Image  # Classe para manipulação de imagens 📷\n",
        "from tensorflow import keras  # Outra forma de importar o Keras para usar com TensorFlow 🤖\n",
        "from numpy import mean  # Importa a função de média estatística 🔢\n",
        "\n",
        "# 📌 Importação de Modelos e Camadas de Redes Neurais\n",
        "from keras.models import Sequential, load_model  # Criar e carregar modelos de redes neurais 🏗️\n",
        "from tensorflow.keras import regularizers, layers, Model  # Regularização e camadas de redes neurais ⚙️\n",
        "from keras.preprocessing import image  # Pré-processamento de imagens para redes neurais 🖼️\n",
        "from keras.callbacks import LearningRateScheduler, ReduceLROnPlateau, EarlyStopping  # Técnicas para ajuste da taxa de aprendizado 📉\n",
        "from keras import backend as B  # Funções avançadas do backend do Keras 🔧\n",
        "\n",
        "# 📌 Importação de Camadas para Redes Neurais\n",
        "from tensorflow.keras.layers import BatchNormalization, MaxPool2D, ReLU  # Camadas para normalização e pooling 🌊\n",
        "from tensorflow.keras import Model  # Modelo de redes neurais 🎯\n",
        "from keras.layers import Dense, Add, Conv1D, Conv2D, MaxPool2D, Flatten, BatchNormalization, Dropout, ZeroPadding2D, MaxPooling2D, Activation, Input, UpSampling2D, AveragePooling2D, Reshape, InputLayer, SeparableConv2D\n",
        "# Diferentes camadas para redes neurais, como convolucionais, pooling, ativação e dropout 🏗️\n",
        "\n",
        "# 📌 Otimizadores para Treinamento de Redes Neurais\n",
        "from tensorflow.keras.optimizers import Adam, Nadam, RMSprop, SGD\n",
        "# Algoritmos de otimização para treinar redes neurais 🚀\n",
        "\n",
        "# 📌 Regularizadores e Inicializadores de Pesos\n",
        "from keras.regularizers import l2  # Regularizador L2 para evitar overfitting 🔍\n",
        "from keras.initializers import glorot_uniform  # Inicializador de pesos para redes neurais 🏋️\n",
        "\n",
        "# 📌 Processamento de Imagens com Scikit-Image\n",
        "from skimage.feature import peak_local_max  # Detectar picos em imagens 📍\n",
        "from skimage.morphology import disk  # Ferramentas de morfologia matemática 🔄\n",
        "from skimage.segmentation import watershed  # Segmentação de imagens 🖼️\n",
        "from skimage.exposure import equalize_adapthist  # Equalização de contraste em imagens 🌟\n",
        "from skimage.io import imread  # Carregar imagens 🏞️\n",
        "from skimage.color import rgb2gray  # Converter imagens para escala de cinza ⚫⚪\n",
        "from skimage.filters import sobel, rank, median  # Aplicação de filtros para processamento de imagens 🖌️\n",
        "from skimage.util import img_as_ubyte  # Conversão de imagens para formato de 8 bits 🎞️\n",
        "\n",
        "# 📌 Ferramentas Estatísticas com SciPy\n",
        "from scipy import ndimage as ndi  # Processamento de imagens e transformadas matemáticas 🧠\n",
        "from scipy.ndimage import distance_transform_edt  # Transformada de distância Euclidiana 📏\n",
        "\n",
        "# 📌 Divisão de Dados e Métricas de Avaliação\n",
        "from sklearn.model_selection import train_test_split  # Dividir conjuntos de treino e teste 📊\n",
        "from sklearn.utils import class_weight  # Ajuste de pesos para classes desbalanceadas ⚖️\n",
        "from sklearn.metrics import confusion_matrix, accuracy_score  # Métricas para avaliação do modelo 📈\n",
        "from tensorflow.keras.metrics import *  # Métricas adicionais para redes neurais 📏\n",
        "from keras import backend as K  # Backend do Keras para operações matemáticas avançadas 🔢\n",
        "from sklearn.metrics import precision_recall_fscore_support, f1_score  # Métricas para classificação 🔍\n"
      ],
      "metadata": {
        "id": "O4Z5TpQV7h2p"
      },
      "execution_count": 2,
      "outputs": []
    },
    {
      "cell_type": "markdown",
      "source": [
        "# 📌 **Explicação do Código: Importação de Bibliotecas para Redes Neurais e Processamento de Imagem**  \n",
        "\n",
        "Este trecho de código importa diversas bibliotecas **essenciais** para trabalhar com **redes neurais, processamento de imagens e aprendizado de máquina**. 🚀  \n",
        "\n",
        "Vamos entender cada parte! 💡  \n",
        "\n",
        "\n",
        "## 🎯 **O que esse código faz?**\n",
        "- 🔥 **Prepara o ambiente** para trabalhar com **redes neurais**.  \n",
        "- 🖼️ **Carrega e processa imagens** para treinar modelos de **Visão Computacional**.  \n",
        "- 🏗️ **Define camadas de redes neurais**, como convolucionais (CNNs).  \n",
        "- 📈 **Importa otimizadores e métricas** para **treinar e avaliar modelos**.  \n",
        "- 🔍 **Inclui ferramentas de pré-processamento de imagem** (filtros, segmentação, etc.).  \n",
        "- 📊 **Permite manipular dados** e criar **modelos preditivos**.  \n",
        "\n",
        "---\n",
        "\n",
        "## 🔥 **Resumo**\n",
        "✅ Esse código importa **todas as bibliotecas** necessárias para trabalhar com **redes neurais** e **processamento de imagens**.  \n",
        "✅ Ele combina ferramentas do **TensorFlow, Keras, OpenCV, SciPy e Scikit-Image** para construir **modelos de aprendizado de máquina**.  \n",
        "✅ O código está pronto para ser usado em **projetos de Inteligência Artificial**, especialmente em **Visão Computacional**.  \n",
        "\n",
        "---\n",
        "---\n"
      ],
      "metadata": {
        "id": "dIwIP0fFOl8W"
      }
    },
    {
      "cell_type": "markdown",
      "source": [
        "# Redes Neurais Artificiais"
      ],
      "metadata": {
        "id": "UDpJJfVE0SEJ"
      }
    },
    {
      "cell_type": "markdown",
      "source": [
        "## Regressão Linear"
      ],
      "metadata": {
        "id": "JO27zjxWYV7y"
      }
    },
    {
      "cell_type": "markdown",
      "source": [
        "## ⁉️ O link é da documentação do KERAS, explicando que já há uma base de dados (dataset) com informações de valores imobiliários no próprio KERAS para estudo\n",
        "\n",
        "https://keras.io/api/datasets/boston_housing/\n",
        "\n",
        "---\n",
        "---\n"
      ],
      "metadata": {
        "id": "C378gt0u2dFS"
      }
    },
    {
      "cell_type": "markdown",
      "source": [
        "## ⁉️ O link detalha as categorias dos dados (dataset), o *paper* onde foi publicado o estudo destes dados, classificacões etc...\n",
        "\n",
        "\n",
        "http://lib.stat.cmu.edu/datasets/boston\n",
        "\n"
      ],
      "metadata": {
        "id": "zp7unUrY2fT1"
      }
    },
    {
      "cell_type": "markdown",
      "source": [
        "Dados de preços de casas em Boston, de Harrison, D. e Rubinfeld, D.L. para o artigo 'Preços hedônicos e a demanda por ar limpo', J. Environ. Economia e Gestão, vol.5, 81-102, 1978."
      ],
      "metadata": {
        "id": "QQlvaepK3kX_"
      }
    },
    {
      "cell_type": "markdown",
      "source": [
        "- Taxa de criminalidade per capita por cidade.\n",
        "- Proporção em relação a terrenos residenciais zoneados em lotes acima de 25.000 pés quadrados.\n",
        "- Proporção em relação a hectares de terrenos não varejistas por cidade\n",
        "- Proporção em relação a terrenos alocados com rios\n",
        "- Concentração de óxidos nítricos medidos no terreno (partes por 10 milhões)\n",
        "- Número médio de quartos por habitação no mesmo loteamento\n",
        "- Proporção de unidades ocupadas (loteamento) e construídas antes de 1940\n",
        "- Distâncias ponderadas para cinco centros de emprego de Boston\n",
        "- Índice de acessibilidade às rodovias radiais\n",
        "- Taxa média de imposto de propriedade de valor (escalonado por 10.000)\n",
        "- Proporção alunos por professor por cidade\n",
        "- Proporção de negros por cidade (por mil habitantes)\n",
        "- Percentual de status mais baixo da população\n",
        "- Valor médio de casas (escalonado por 1.000)\n",
        "\n"
      ],
      "metadata": {
        "id": "eGrX6Qm77WS8"
      }
    },
    {
      "cell_type": "markdown",
      "source": [
        "## ➡️O objetivo é usar a regressão linear para encontrar o valor médio das casas ocupadas pelos proprietários em 1.000 USD.\n",
        "\n",
        "---\n",
        "---"
      ],
      "metadata": {
        "id": "4GMcGJVS8WL8"
      }
    },
    {
      "cell_type": "code",
      "source": [
        "# Importação das bibliotecas, módulos e pacotes\n",
        "import tensorflow as tf  # 🔥 Importa o TensorFlow, usado para criar e treinar redes neurais\n",
        "import numpy as np  # 📊 Importa o NumPy, que é usado para manipulação de arrays e cálculos matemáticos\n",
        "from keras.models import Sequential  # 🏗️ Importa a estrutura para criar modelos de redes neurais sequenciais\n",
        "from keras.layers import Dense  # 🧩 Importa a camada densa (totalmente conectada) usada na rede neural\n",
        "from tensorflow.keras.utils import plot_model # imports plot_model function from keras.utils\n",
        "import matplotlib.pyplot as plt  # 📈 Importa o Matplotlib, usado para gerar gráficos\n",
        "from keras.models import load_model\n",
        "from keras.losses import MeanSquaredError\n"
      ],
      "metadata": {
        "id": "zFKN5hLS0VFZ"
      },
      "execution_count": 3,
      "outputs": []
    },
    {
      "cell_type": "code",
      "source": [
        "print(f'Versão da biblioteca TensorFlow: {tf.__version__}')  # 📢 Exibe a versão instalada do TensorFlow"
      ],
      "metadata": {
        "id": "yr99Cbut5hRM",
        "colab": {
          "base_uri": "https://localhost:8080/"
        },
        "outputId": "2e887ad0-5151-4d59-98b8-b8dc84327527"
      },
      "execution_count": 4,
      "outputs": [
        {
          "output_type": "stream",
          "name": "stdout",
          "text": [
            "Versão da biblioteca TensorFlow: 2.18.0\n"
          ]
        }
      ]
    },
    {
      "cell_type": "code",
      "source": [
        "# Importa o conjunto de dados de preços de imóveis em Boston\n",
        "data = tf.keras.datasets.boston_housing  # ✅ Carrega o dataset Boston Housing, que contém preços de casas em Boston com base em 13 características, como número de quartos, taxa de criminalidade e idade dos imóveis.\n",
        "\n",
        "# Divide os dados em conjuntos de treino e teste\n",
        "(x_train, y_train), (x_test, y_test) = data.load_data()  # Carrega os dados e separa em duas partes:\n",
        "# - x_train: contém as features (características) dos dados de treinamento.\n",
        "# - y_train: contém os rótulos (labels) correspondentes aos dados de treinamento.\n",
        "# - x_test: contém as features dos dados de teste.\n",
        "# - y_test: contém os rótulos correspondentes aos dados de teste.\n",
        "\n",
        "(x_train, y_train), (x_test, y_test) = data.load_data() # Quando não passamos nenhum parametro [(parametro)] ela divide por padrão em torno de 70% dos dados para treino e 30% para testes\n",
        "\n",
        "# ✅ x_train e y_train são usados para treinar o modelo. Durante o treinamento, o modelo aprende a mapear as features (x_train) para os rótulos (y_train).\n",
        "# ✅ x_test e y_test são usados para avaliar o desempenho do modelo após o treinamento. O modelo faz previsões com base em x_test, e essas previsões são comparadas com y_test para medir a precisão do modelo.\n",
        "\n",
        "\n",
        "\n",
        "\n",
        "# https://keras.io/api/datasets/boston_housing/"
      ],
      "metadata": {
        "id": "4XKfNx_N0ZY_",
        "colab": {
          "base_uri": "https://localhost:8080/"
        },
        "outputId": "5f447a1f-af7d-41e5-ed5c-f02c54196f6b"
      },
      "execution_count": 5,
      "outputs": [
        {
          "output_type": "stream",
          "name": "stdout",
          "text": [
            "Downloading data from https://storage.googleapis.com/tensorflow/tf-keras-datasets/boston_housing.npz\n",
            "\u001b[1m57026/57026\u001b[0m \u001b[32m━━━━━━━━━━━━━━━━━━━━\u001b[0m\u001b[37m\u001b[0m \u001b[1m0s\u001b[0m 0us/step\n"
          ]
        }
      ]
    },
    {
      "cell_type": "code",
      "source": [
        "# Exibe o tipo da variável x_train\n",
        "print(type(x_train))  # 🖥️ Mostra o tipo de dado armazenado em x_train.\n",
        "                      #    - Deve ser um array NumPy (numpy.ndarray), que é a estrutura padrão usada pelo TensorFlow para armazenar dados numéricos.\n",
        "                      #    - Isso facilita operações matemáticas e computacionais eficientes.\n"
      ],
      "metadata": {
        "id": "ydIaAOi22e5Q",
        "colab": {
          "base_uri": "https://localhost:8080/"
        },
        "outputId": "808db896-bf29-43e1-b06a-9ad687bbd207"
      },
      "execution_count": 6,
      "outputs": [
        {
          "output_type": "stream",
          "name": "stdout",
          "text": [
            "<class 'numpy.ndarray'>\n"
          ]
        }
      ]
    },
    {
      "cell_type": "code",
      "source": [
        "# Exibe o formato (dimensão) do conjunto de dados de treino\n",
        "print(x_train.shape)  # 📏 Mostra a quantidade de amostras e o número de características por amostra.\n",
        "                      #    - O formato esperado para o dataset Boston Housing é (404, 13):\n",
        "                      #      - 404: número de exemplos (casas) no conjunto de treino.\n",
        "                      #      - 13: número de características usadas para prever o preço das casas.\n",
        "                      #    - Isso ajuda a verificar se os dados foram carregados corretamente.\n"
      ],
      "metadata": {
        "id": "RX0gGh8r1TJX",
        "colab": {
          "base_uri": "https://localhost:8080/"
        },
        "outputId": "ca4af52a-8e10-47ef-9861-0cb4b5d0a417"
      },
      "execution_count": 7,
      "outputs": [
        {
          "output_type": "stream",
          "name": "stdout",
          "text": [
            "(404, 13)\n"
          ]
        }
      ]
    },
    {
      "cell_type": "code",
      "source": [
        "# Exibe o formato (dimensão) do conjunto de dados de teste\n",
        "print(x_test.shape)  # 📏 Mostra a quantidade de amostras e o número de características por amostra.\n",
        "                     #    - O formato esperado para o dataset Boston Housing é (102, 13):\n",
        "                     #      - 102: número de exemplos (casas) no conjunto de teste.\n",
        "                     #      - 13: número de características usadas para prever o preço das casas.\n",
        "                     #    - Isso ajuda a verificar se a divisão entre treino e teste foi feita corretamente.\n"
      ],
      "metadata": {
        "id": "NU6fboRJ119X",
        "colab": {
          "base_uri": "https://localhost:8080/"
        },
        "outputId": "20fb466f-1deb-400d-83b4-101f0fec4e80"
      },
      "execution_count": 8,
      "outputs": [
        {
          "output_type": "stream",
          "name": "stdout",
          "text": [
            "(102, 13)\n"
          ]
        }
      ]
    },
    {
      "cell_type": "code",
      "source": [
        "# Exibe os valores das características da primeira amostra do conjunto de treino\n",
        "print(x_train[0])  # 🔍 Mostra um array com 13 valores numéricos, representando as características da primeira casa do conjunto de treino.\n",
        "                   #    - Cada valor corresponde a um atributo, como número de quartos, idade do imóvel, taxa de criminalidade na região, etc.\n",
        "                   #    - Útil para entender a estrutura dos dados antes de alimentar o modelo.\n"
      ],
      "metadata": {
        "id": "KPBxb9v51_un",
        "colab": {
          "base_uri": "https://localhost:8080/"
        },
        "outputId": "9857ef57-3a33-45ca-d43c-70e71f83eb52"
      },
      "execution_count": 9,
      "outputs": [
        {
          "output_type": "stream",
          "name": "stdout",
          "text": [
            "[  1.23247   0.        8.14      0.        0.538     6.142    91.7\n",
            "   3.9769    4.      307.       21.      396.9      18.72   ]\n"
          ]
        }
      ]
    },
    {
      "cell_type": "code",
      "source": [
        "# Exibe o preço real da primeira casa no conjunto de teste\n",
        "print(y_test[0])  # 💰 Mostra o valor esperado (label) para a primeira casa do conjunto de teste.\n",
        "                  #    - Esse valor representa o preço da casa em milhares de dólares.\n",
        "                  #    - No dataset Boston Housing, os preços das casas variam entre aproximadamente 5.000 e 50.000 dólares.\n",
        "                  #    - Isso é útil para comparar as previsões do modelo com os valores reais.\n"
      ],
      "metadata": {
        "id": "mz1NTd792GiN",
        "colab": {
          "base_uri": "https://localhost:8080/"
        },
        "outputId": "87291554-e51c-4e7b-aa2b-d4a7e10beca0"
      },
      "execution_count": 10,
      "outputs": [
        {
          "output_type": "stream",
          "name": "stdout",
          "text": [
            "7.2\n"
          ]
        }
      ]
    },
    {
      "cell_type": "code",
      "source": [
        "# Normalização através da média e desvio padrão\n",
        "\n",
        "media = x_train.mean(axis=0)  # 📊 Calcula a média de cada coluna (característica) do conjunto de treino.\n",
        "                              # O parâmetro `axis=0` indica que a média é calculada ao longo das linhas (por coluna).\n",
        "\n",
        "desvio = x_train.std(axis=0)  # 📊 Calcula o desvio padrão de cada coluna (característica) do conjunto de treino.\n",
        "                              # O parâmetro `axis=0` indica que o desvio padrão é calculado ao longo das linhas (por coluna).\n",
        "\n",
        "x_train = (x_train - media) / desvio  # 🏋️‍♂️ Normaliza os dados de treino subtraindo a média e dividindo pelo desvio padrão.\n",
        "                                      # Isso garante que os dados tenham média 0 e desvio padrão 1, o que é útil para muitos algoritmos de machine learning.\n",
        "\n",
        "x_test = (x_test - media) / desvio  # � Normaliza os dados de teste utilizando a mesma média e desvio padrão calculados no conjunto de treino.\n",
        "                                    # Isso é importante para garantir que os dados de teste sejam normalizados de forma consistente com os dados de treino.\n",
        "\n",
        "# https://numpy.org/doc/stable/reference/generated/numpy.mean.html\n",
        "# https://numpy.org/doc/stable/reference/generated/numpy.std.html"
      ],
      "metadata": {
        "id": "-rZ0urZc0ZbZ"
      },
      "execution_count": 11,
      "outputs": []
    },
    {
      "cell_type": "code",
      "source": [
        "# Definição do modelo\n",
        "model = Sequential([\n",
        "  Dense(units=64, activation='relu', input_shape=[13]),  # 🔢 Camada oculta 1 com 64 neurônios.\n",
        "                                                        # A função de ativação 'relu' (Rectified Linear Unit) é usada para introduzir não-linearidade.\n",
        "                                                        # `input_shape=[13]` define que a camada espera uma entrada com 13 características (features).\n",
        "\n",
        "  Dense(units=64, activation='relu'),  # 🔢 Camada oculta 2 com 64 neurônios.\n",
        "                                       # Também utiliza a função de ativação 'relu' para não-linearidade.\n",
        "                                       # Não é necessário especificar `input_shape` aqui, pois o modelo já sabe o formato da entrada da camada anterior.\n",
        "\n",
        "  Dense(units=1)  # 🎯 Camada de saída com 1 neurônio.\n",
        "                  # Esta camada é usada para prever o valor de saída (por exemplo, o preço de uma casa).\n",
        "                  # Não há função de ativação explícita, o que significa que a saída será um valor contínuo (regressão).\n",
        "])\n",
        "# https://keras.io/api/models/sequential/#sequential-class\n",
        "# https://keras.io/api/layers/core_layers/dense/\n",
        "# https://keras.io/api/layers/activations/"
      ],
      "metadata": {
        "id": "dUBgGxDP0Zdx",
        "colab": {
          "base_uri": "https://localhost:8080/"
        },
        "outputId": "0677c6bb-8179-45fb-832b-ab8fcb904e0b"
      },
      "execution_count": 12,
      "outputs": [
        {
          "output_type": "stream",
          "name": "stderr",
          "text": [
            "/usr/local/lib/python3.11/dist-packages/keras/src/layers/core/dense.py:87: UserWarning: Do not pass an `input_shape`/`input_dim` argument to a layer. When using Sequential models, prefer using an `Input(shape)` object as the first layer in the model instead.\n",
            "  super().__init__(activity_regularizer=activity_regularizer, **kwargs)\n"
          ]
        }
      ]
    },
    {
      "cell_type": "code",
      "source": [
        "model.summary()  # 📝 Exibe um resumo da arquitetura do modelo.\n",
        "                 # Mostra detalhes como:\n",
        "                 # - O nome de cada camada.\n",
        "                 # - O formato de saída (output shape) de cada camada.\n",
        "                 # - O número de parâmetros (pesos e vieses) treináveis em cada camada.\n",
        "                 # - O número total de parâmetros do modelo.\n",
        "                 # É útil para verificar se o modelo foi construído corretamente e entender sua complexidade."
      ],
      "metadata": {
        "id": "G5zH9yh2Lvn6",
        "colab": {
          "base_uri": "https://localhost:8080/",
          "height": 238
        },
        "outputId": "2e54af35-be4a-47cc-c2f7-ce74d51dcf8a"
      },
      "execution_count": 13,
      "outputs": [
        {
          "output_type": "display_data",
          "data": {
            "text/plain": [
              "\u001b[1mModel: \"sequential\"\u001b[0m\n"
            ],
            "text/html": [
              "<pre style=\"white-space:pre;overflow-x:auto;line-height:normal;font-family:Menlo,'DejaVu Sans Mono',consolas,'Courier New',monospace\"><span style=\"font-weight: bold\">Model: \"sequential\"</span>\n",
              "</pre>\n"
            ]
          },
          "metadata": {}
        },
        {
          "output_type": "display_data",
          "data": {
            "text/plain": [
              "┏━━━━━━━━━━━━━━━━━━━━━━━━━━━━━━━━━━━━━━┳━━━━━━━━━━━━━━━━━━━━━━━━━━━━━┳━━━━━━━━━━━━━━━━━┓\n",
              "┃\u001b[1m \u001b[0m\u001b[1mLayer (type)                        \u001b[0m\u001b[1m \u001b[0m┃\u001b[1m \u001b[0m\u001b[1mOutput Shape               \u001b[0m\u001b[1m \u001b[0m┃\u001b[1m \u001b[0m\u001b[1m        Param #\u001b[0m\u001b[1m \u001b[0m┃\n",
              "┡━━━━━━━━━━━━━━━━━━━━━━━━━━━━━━━━━━━━━━╇━━━━━━━━━━━━━━━━━━━━━━━━━━━━━╇━━━━━━━━━━━━━━━━━┩\n",
              "│ dense (\u001b[38;5;33mDense\u001b[0m)                        │ (\u001b[38;5;45mNone\u001b[0m, \u001b[38;5;34m64\u001b[0m)                  │             \u001b[38;5;34m896\u001b[0m │\n",
              "├──────────────────────────────────────┼─────────────────────────────┼─────────────────┤\n",
              "│ dense_1 (\u001b[38;5;33mDense\u001b[0m)                      │ (\u001b[38;5;45mNone\u001b[0m, \u001b[38;5;34m64\u001b[0m)                  │           \u001b[38;5;34m4,160\u001b[0m │\n",
              "├──────────────────────────────────────┼─────────────────────────────┼─────────────────┤\n",
              "│ dense_2 (\u001b[38;5;33mDense\u001b[0m)                      │ (\u001b[38;5;45mNone\u001b[0m, \u001b[38;5;34m1\u001b[0m)                   │              \u001b[38;5;34m65\u001b[0m │\n",
              "└──────────────────────────────────────┴─────────────────────────────┴─────────────────┘\n"
            ],
            "text/html": [
              "<pre style=\"white-space:pre;overflow-x:auto;line-height:normal;font-family:Menlo,'DejaVu Sans Mono',consolas,'Courier New',monospace\">┏━━━━━━━━━━━━━━━━━━━━━━━━━━━━━━━━━━━━━━┳━━━━━━━━━━━━━━━━━━━━━━━━━━━━━┳━━━━━━━━━━━━━━━━━┓\n",
              "┃<span style=\"font-weight: bold\"> Layer (type)                         </span>┃<span style=\"font-weight: bold\"> Output Shape                </span>┃<span style=\"font-weight: bold\">         Param # </span>┃\n",
              "┡━━━━━━━━━━━━━━━━━━━━━━━━━━━━━━━━━━━━━━╇━━━━━━━━━━━━━━━━━━━━━━━━━━━━━╇━━━━━━━━━━━━━━━━━┩\n",
              "│ dense (<span style=\"color: #0087ff; text-decoration-color: #0087ff\">Dense</span>)                        │ (<span style=\"color: #00d7ff; text-decoration-color: #00d7ff\">None</span>, <span style=\"color: #00af00; text-decoration-color: #00af00\">64</span>)                  │             <span style=\"color: #00af00; text-decoration-color: #00af00\">896</span> │\n",
              "├──────────────────────────────────────┼─────────────────────────────┼─────────────────┤\n",
              "│ dense_1 (<span style=\"color: #0087ff; text-decoration-color: #0087ff\">Dense</span>)                      │ (<span style=\"color: #00d7ff; text-decoration-color: #00d7ff\">None</span>, <span style=\"color: #00af00; text-decoration-color: #00af00\">64</span>)                  │           <span style=\"color: #00af00; text-decoration-color: #00af00\">4,160</span> │\n",
              "├──────────────────────────────────────┼─────────────────────────────┼─────────────────┤\n",
              "│ dense_2 (<span style=\"color: #0087ff; text-decoration-color: #0087ff\">Dense</span>)                      │ (<span style=\"color: #00d7ff; text-decoration-color: #00d7ff\">None</span>, <span style=\"color: #00af00; text-decoration-color: #00af00\">1</span>)                   │              <span style=\"color: #00af00; text-decoration-color: #00af00\">65</span> │\n",
              "└──────────────────────────────────────┴─────────────────────────────┴─────────────────┘\n",
              "</pre>\n"
            ]
          },
          "metadata": {}
        },
        {
          "output_type": "display_data",
          "data": {
            "text/plain": [
              "\u001b[1m Total params: \u001b[0m\u001b[38;5;34m5,121\u001b[0m (20.00 KB)\n"
            ],
            "text/html": [
              "<pre style=\"white-space:pre;overflow-x:auto;line-height:normal;font-family:Menlo,'DejaVu Sans Mono',consolas,'Courier New',monospace\"><span style=\"font-weight: bold\"> Total params: </span><span style=\"color: #00af00; text-decoration-color: #00af00\">5,121</span> (20.00 KB)\n",
              "</pre>\n"
            ]
          },
          "metadata": {}
        },
        {
          "output_type": "display_data",
          "data": {
            "text/plain": [
              "\u001b[1m Trainable params: \u001b[0m\u001b[38;5;34m5,121\u001b[0m (20.00 KB)\n"
            ],
            "text/html": [
              "<pre style=\"white-space:pre;overflow-x:auto;line-height:normal;font-family:Menlo,'DejaVu Sans Mono',consolas,'Courier New',monospace\"><span style=\"font-weight: bold\"> Trainable params: </span><span style=\"color: #00af00; text-decoration-color: #00af00\">5,121</span> (20.00 KB)\n",
              "</pre>\n"
            ]
          },
          "metadata": {}
        },
        {
          "output_type": "display_data",
          "data": {
            "text/plain": [
              "\u001b[1m Non-trainable params: \u001b[0m\u001b[38;5;34m0\u001b[0m (0.00 B)\n"
            ],
            "text/html": [
              "<pre style=\"white-space:pre;overflow-x:auto;line-height:normal;font-family:Menlo,'DejaVu Sans Mono',consolas,'Courier New',monospace\"><span style=\"font-weight: bold\"> Non-trainable params: </span><span style=\"color: #00af00; text-decoration-color: #00af00\">0</span> (0.00 B)\n",
              "</pre>\n"
            ]
          },
          "metadata": {}
        }
      ]
    },
    {
      "cell_type": "code",
      "source": [
        "plot_model(model,  # Função para gerar uma visualização gráfica da arquitetura do modelo de rede neural.\n",
        "           to_file='model.png',  # Define o nome do arquivo de saída para salvar a imagem do modelo.\n",
        "                                 # Neste caso, a imagem será salva como 'model.png'.\n",
        "           show_shapes=True,  # Exibe o formato (shape) de entrada e saída de cada camada na imagem.\n",
        "                              # Isso é útil para entender as dimensões dos dados em cada etapa do modelo.\n",
        "           show_layer_names=False)  # Oculta os nomes das camadas na visualização do modelo.\n",
        "                                   # Se fosse `True`, os nomes das camadas seriam exibidos no gráfico.\n",
        "\n",
        "# DETALHES ADICIONAIS:\n",
        "\n",
        "# plot_model: É uma função da biblioteca Keras/TensorFlow que cria uma representação visual da arquitetura do modelo.\n",
        "\n",
        "# to_file: Especifica o nome do arquivo onde a imagem do modelo será salva. O formato pode ser PNG, JPEG, etc.\n",
        "\n",
        "# show_shapes: Quando True, mostra as dimensões dos dados (shapes) em cada camada, o que é útil para depuração e entendimento do fluxo de dados.\n",
        "\n",
        "# show_layer_names: Quando False, omite os nomes das camadas no gráfico, deixando a visualização mais limpa.\n",
        "\n",
        "\n"
      ],
      "metadata": {
        "id": "6rEUF9YIhDjX",
        "colab": {
          "base_uri": "https://localhost:8080/",
          "height": 939
        },
        "outputId": "bb9976a0-b094-4198-d792-51a3f61fc408"
      },
      "execution_count": 14,
      "outputs": [
        {
          "output_type": "execute_result",
          "data": {
            "image/png": "[encoded data removed]",
            "text/plain": [
              "<IPython.core.display.Image object>"
            ]
          },
          "metadata": {},
          "execution_count": 14
        }
      ]
    },
    {
      "cell_type": "code",
      "source": [
        "model.compile(optimizer='adam',  # Define o otimizador do modelo.\n",
        "                             # 'adam' é um otimizador popular que combina as vantagens de outros métodos como RMSprop e Momentum.\n",
        "                             # Ele ajusta os pesos do modelo durante o treinamento para minimizar a função de perda.\n",
        "\n",
        "              loss='mse',  # Define a função de perda (loss function) como o erro quadrático médio (Mean Squared Error - MSE).\n",
        "                           # MSE é comumente usado em problemas de regressão, pois penaliza grandes erros de previsão.\n",
        "\n",
        "              metrics=['mae'])  # Define a métrica de avaliação como o erro absoluto médio (Mean Absolute Error - MAE).\n",
        "                                # MAE mede a média das diferenças absolutas entre os valores reais e os previstos.\n",
        "                                # Ele é útil para entender o desempenho do modelo em termos de erro absoluto.\n",
        "\n",
        "# https://keras.io/api/optimizers/\n",
        "# https://keras.io/api/losses/\n",
        "# https://keras.io/api/metrics/"
      ],
      "metadata": {
        "id": "ISDhn8Pt0Zgb"
      },
      "execution_count": 15,
      "outputs": []
    },
    {
      "cell_type": "code",
      "source": [
        "%time  # Comando mágico do Jupyter Notebook/IPython para medir o tempo de execução do bloco de código.\n",
        "       # Ele exibe o tempo total que o código levou para ser executado.\n",
        "\n",
        "history = model.fit(x_train,  # Inicia o treinamento do modelo usando os dados de treino.\n",
        "                    y_train,  # Rótulos (labels) correspondentes aos dados de treino.\n",
        "                    epochs=100,  # Define o número de épocas (iterações completas sobre o conjunto de treino).\n",
        "                                 # Neste caso, o modelo será treinado por 100 épocas.\n",
        "                    validation_split=0.2)  # Reserva 20% dos dados de treino para validação.\n",
        "                                           # Esses dados não são usados no treinamento, mas para avaliar o desempenho do modelo durante o treinamento.\n",
        "                                           # Isso ajuda a detectar overfitting (sobreajuste).\n",
        "\n"
      ],
      "metadata": {
        "id": "bhCBPWGD0Zis",
        "colab": {
          "base_uri": "https://localhost:8080/"
        },
        "outputId": "469aebea-9a9e-454f-d441-11fc494cda32",
        "collapsed": true
      },
      "execution_count": 16,
      "outputs": [
        {
          "output_type": "stream",
          "name": "stdout",
          "text": [
            "CPU times: user 3 µs, sys: 1 µs, total: 4 µs\n",
            "Wall time: 5.72 µs\n",
            "Epoch 1/100\n",
            "\u001b[1m11/11\u001b[0m \u001b[32m━━━━━━━━━━━━━━━━━━━━\u001b[0m\u001b[37m\u001b[0m \u001b[1m4s\u001b[0m 68ms/step - loss: 532.2581 - mae: 21.4154 - val_loss: 588.5479 - val_mae: 22.4437\n",
            "Epoch 2/100\n",
            "\u001b[1m11/11\u001b[0m \u001b[32m━━━━━━━━━━━━━━━━━━━━\u001b[0m\u001b[37m\u001b[0m \u001b[1m0s\u001b[0m 16ms/step - loss: 513.2581 - mae: 20.5669 - val_loss: 535.9239 - val_mae: 21.2198\n",
            "Epoch 3/100\n",
            "\u001b[1m11/11\u001b[0m \u001b[32m━━━━━━━━━━━━━━━━━━━━\u001b[0m\u001b[37m\u001b[0m \u001b[1m0s\u001b[0m 25ms/step - loss: 465.1513 - mae: 19.5433 - val_loss: 467.2712 - val_mae: 19.5730\n",
            "Epoch 4/100\n",
            "\u001b[1m11/11\u001b[0m \u001b[32m━━━━━━━━━━━━━━━━━━━━\u001b[0m\u001b[37m\u001b[0m \u001b[1m0s\u001b[0m 17ms/step - loss: 367.6316 - mae: 16.6982 - val_loss: 380.9779 - val_mae: 17.3323\n",
            "Epoch 5/100\n",
            "\u001b[1m11/11\u001b[0m \u001b[32m━━━━━━━━━━━━━━━━━━━━\u001b[0m\u001b[37m\u001b[0m \u001b[1m0s\u001b[0m 25ms/step - loss: 315.2603 - mae: 15.4215 - val_loss: 281.9714 - val_mae: 14.4451\n",
            "Epoch 6/100\n",
            "\u001b[1m11/11\u001b[0m \u001b[32m━━━━━━━━━━━━━━━━━━━━\u001b[0m\u001b[37m\u001b[0m \u001b[1m0s\u001b[0m 13ms/step - loss: 201.1939 - mae: 11.8525 - val_loss: 187.2156 - val_mae: 11.1766\n",
            "Epoch 7/100\n",
            "\u001b[1m11/11\u001b[0m \u001b[32m━━━━━━━━━━━━━━━━━━━━\u001b[0m\u001b[37m\u001b[0m \u001b[1m0s\u001b[0m 16ms/step - loss: 138.3745 - mae: 9.4108 - val_loss: 116.9189 - val_mae: 8.3191\n",
            "Epoch 8/100\n",
            "\u001b[1m11/11\u001b[0m \u001b[32m━━━━━━━━━━━━━━━━━━━━\u001b[0m\u001b[37m\u001b[0m \u001b[1m0s\u001b[0m 18ms/step - loss: 85.8097 - mae: 7.2663 - val_loss: 81.2509 - val_mae: 6.8907\n",
            "Epoch 9/100\n",
            "\u001b[1m11/11\u001b[0m \u001b[32m━━━━━━━━━━━━━━━━━━━━\u001b[0m\u001b[37m\u001b[0m \u001b[1m0s\u001b[0m 22ms/step - loss: 63.0164 - mae: 5.9698 - val_loss: 64.7841 - val_mae: 6.0390\n",
            "Epoch 10/100\n",
            "\u001b[1m11/11\u001b[0m \u001b[32m━━━━━━━━━━━━━━━━━━━━\u001b[0m\u001b[37m\u001b[0m \u001b[1m0s\u001b[0m 36ms/step - loss: 50.8831 - mae: 5.1219 - val_loss: 53.9969 - val_mae: 5.4476\n",
            "Epoch 11/100\n",
            "\u001b[1m11/11\u001b[0m \u001b[32m━━━━━━━━━━━━━━━━━━━━\u001b[0m\u001b[37m\u001b[0m \u001b[1m0s\u001b[0m 26ms/step - loss: 44.6201 - mae: 4.8859 - val_loss: 45.5880 - val_mae: 5.0269\n",
            "Epoch 12/100\n",
            "\u001b[1m11/11\u001b[0m \u001b[32m━━━━━━━━━━━━━━━━━━━━\u001b[0m\u001b[37m\u001b[0m \u001b[1m1s\u001b[0m 43ms/step - loss: 35.3193 - mae: 4.3121 - val_loss: 39.8585 - val_mae: 4.7032\n",
            "Epoch 13/100\n",
            "\u001b[1m11/11\u001b[0m \u001b[32m━━━━━━━━━━━━━━━━━━━━\u001b[0m\u001b[37m\u001b[0m \u001b[1m0s\u001b[0m 31ms/step - loss: 36.0341 - mae: 4.1616 - val_loss: 35.3975 - val_mae: 4.4369\n",
            "Epoch 14/100\n",
            "\u001b[1m11/11\u001b[0m \u001b[32m━━━━━━━━━━━━━━━━━━━━\u001b[0m\u001b[37m\u001b[0m \u001b[1m0s\u001b[0m 20ms/step - loss: 24.4533 - mae: 3.7288 - val_loss: 31.5622 - val_mae: 4.2215\n",
            "Epoch 15/100\n",
            "\u001b[1m11/11\u001b[0m \u001b[32m━━━━━━━━━━━━━━━━━━━━\u001b[0m\u001b[37m\u001b[0m \u001b[1m0s\u001b[0m 32ms/step - loss: 24.0917 - mae: 3.6130 - val_loss: 29.1386 - val_mae: 4.1109\n",
            "Epoch 16/100\n",
            "\u001b[1m11/11\u001b[0m \u001b[32m━━━━━━━━━━━━━━━━━━━━\u001b[0m\u001b[37m\u001b[0m \u001b[1m0s\u001b[0m 28ms/step - loss: 19.7600 - mae: 3.2672 - val_loss: 27.1400 - val_mae: 3.9940\n",
            "Epoch 17/100\n",
            "\u001b[1m11/11\u001b[0m \u001b[32m━━━━━━━━━━━━━━━━━━━━\u001b[0m\u001b[37m\u001b[0m \u001b[1m0s\u001b[0m 28ms/step - loss: 21.4459 - mae: 3.3363 - val_loss: 25.5944 - val_mae: 3.8999\n",
            "Epoch 18/100\n",
            "\u001b[1m11/11\u001b[0m \u001b[32m━━━━━━━━━━━━━━━━━━━━\u001b[0m\u001b[37m\u001b[0m \u001b[1m0s\u001b[0m 15ms/step - loss: 22.9668 - mae: 3.4088 - val_loss: 24.1538 - val_mae: 3.7693\n",
            "Epoch 19/100\n",
            "\u001b[1m11/11\u001b[0m \u001b[32m━━━━━━━━━━━━━━━━━━━━\u001b[0m\u001b[37m\u001b[0m \u001b[1m0s\u001b[0m 14ms/step - loss: 17.1373 - mae: 2.9711 - val_loss: 23.1855 - val_mae: 3.6927\n",
            "Epoch 20/100\n",
            "\u001b[1m11/11\u001b[0m \u001b[32m━━━━━━━━━━━━━━━━━━━━\u001b[0m\u001b[37m\u001b[0m \u001b[1m0s\u001b[0m 17ms/step - loss: 19.7751 - mae: 3.1970 - val_loss: 22.1305 - val_mae: 3.6380\n",
            "Epoch 21/100\n",
            "\u001b[1m11/11\u001b[0m \u001b[32m━━━━━━━━━━━━━━━━━━━━\u001b[0m\u001b[37m\u001b[0m \u001b[1m0s\u001b[0m 15ms/step - loss: 22.1745 - mae: 3.2312 - val_loss: 21.4021 - val_mae: 3.5915\n",
            "Epoch 22/100\n",
            "\u001b[1m11/11\u001b[0m \u001b[32m━━━━━━━━━━━━━━━━━━━━\u001b[0m\u001b[37m\u001b[0m \u001b[1m0s\u001b[0m 19ms/step - loss: 21.8264 - mae: 3.0071 - val_loss: 20.8230 - val_mae: 3.5368\n",
            "Epoch 23/100\n",
            "\u001b[1m11/11\u001b[0m \u001b[32m━━━━━━━━━━━━━━━━━━━━\u001b[0m\u001b[37m\u001b[0m \u001b[1m0s\u001b[0m 9ms/step - loss: 22.0983 - mae: 3.2509 - val_loss: 20.3094 - val_mae: 3.4590\n",
            "Epoch 24/100\n",
            "\u001b[1m11/11\u001b[0m \u001b[32m━━━━━━━━━━━━━━━━━━━━\u001b[0m\u001b[37m\u001b[0m \u001b[1m0s\u001b[0m 8ms/step - loss: 18.3026 - mae: 2.9526 - val_loss: 19.5465 - val_mae: 3.3894\n",
            "Epoch 25/100\n",
            "\u001b[1m11/11\u001b[0m \u001b[32m━━━━━━━━━━━━━━━━━━━━\u001b[0m\u001b[37m\u001b[0m \u001b[1m0s\u001b[0m 8ms/step - loss: 18.3159 - mae: 2.9576 - val_loss: 19.1049 - val_mae: 3.3622\n",
            "Epoch 26/100\n",
            "\u001b[1m11/11\u001b[0m \u001b[32m━━━━━━━━━━━━━━━━━━━━\u001b[0m\u001b[37m\u001b[0m \u001b[1m0s\u001b[0m 8ms/step - loss: 18.9578 - mae: 3.0622 - val_loss: 18.6739 - val_mae: 3.3187\n",
            "Epoch 27/100\n",
            "\u001b[1m11/11\u001b[0m \u001b[32m━━━━━━━━━━━━━━━━━━━━\u001b[0m\u001b[37m\u001b[0m \u001b[1m0s\u001b[0m 8ms/step - loss: 15.5493 - mae: 2.7836 - val_loss: 18.2422 - val_mae: 3.2706\n",
            "Epoch 28/100\n",
            "\u001b[1m11/11\u001b[0m \u001b[32m━━━━━━━━━━━━━━━━━━━━\u001b[0m\u001b[37m\u001b[0m \u001b[1m0s\u001b[0m 10ms/step - loss: 13.1672 - mae: 2.5698 - val_loss: 18.0021 - val_mae: 3.2154\n",
            "Epoch 29/100\n",
            "\u001b[1m11/11\u001b[0m \u001b[32m━━━━━━━━━━━━━━━━━━━━\u001b[0m\u001b[37m\u001b[0m \u001b[1m0s\u001b[0m 9ms/step - loss: 17.1248 - mae: 2.8656 - val_loss: 17.6851 - val_mae: 3.1721\n",
            "Epoch 30/100\n",
            "\u001b[1m11/11\u001b[0m \u001b[32m━━━━━━━━━━━━━━━━━━━━\u001b[0m\u001b[37m\u001b[0m \u001b[1m0s\u001b[0m 9ms/step - loss: 13.7147 - mae: 2.6358 - val_loss: 17.4964 - val_mae: 3.1578\n",
            "Epoch 31/100\n",
            "\u001b[1m11/11\u001b[0m \u001b[32m━━━━━━━━━━━━━━━━━━━━\u001b[0m\u001b[37m\u001b[0m \u001b[1m0s\u001b[0m 9ms/step - loss: 13.7260 - mae: 2.6698 - val_loss: 17.0093 - val_mae: 3.1263\n",
            "Epoch 32/100\n",
            "\u001b[1m11/11\u001b[0m \u001b[32m━━━━━━━━━━━━━━━━━━━━\u001b[0m\u001b[37m\u001b[0m \u001b[1m0s\u001b[0m 15ms/step - loss: 14.5001 - mae: 2.5712 - val_loss: 16.6654 - val_mae: 3.1199\n",
            "Epoch 33/100\n",
            "\u001b[1m11/11\u001b[0m \u001b[32m━━━━━━━━━━━━━━━━━━━━\u001b[0m\u001b[37m\u001b[0m \u001b[1m0s\u001b[0m 15ms/step - loss: 13.2157 - mae: 2.5044 - val_loss: 16.1187 - val_mae: 3.0555\n",
            "Epoch 34/100\n",
            "\u001b[1m11/11\u001b[0m \u001b[32m━━━━━━━━━━━━━━━━━━━━\u001b[0m\u001b[37m\u001b[0m \u001b[1m0s\u001b[0m 20ms/step - loss: 12.9842 - mae: 2.5766 - val_loss: 15.7257 - val_mae: 3.0047\n",
            "Epoch 35/100\n",
            "\u001b[1m11/11\u001b[0m \u001b[32m━━━━━━━━━━━━━━━━━━━━\u001b[0m\u001b[37m\u001b[0m \u001b[1m0s\u001b[0m 19ms/step - loss: 11.5005 - mae: 2.3252 - val_loss: 15.4494 - val_mae: 2.9798\n",
            "Epoch 36/100\n",
            "\u001b[1m11/11\u001b[0m \u001b[32m━━━━━━━━━━━━━━━━━━━━\u001b[0m\u001b[37m\u001b[0m \u001b[1m0s\u001b[0m 29ms/step - loss: 13.9184 - mae: 2.6412 - val_loss: 15.4820 - val_mae: 2.9505\n",
            "Epoch 37/100\n",
            "\u001b[1m11/11\u001b[0m \u001b[32m━━━━━━━━━━━━━━━━━━━━\u001b[0m\u001b[37m\u001b[0m \u001b[1m0s\u001b[0m 16ms/step - loss: 13.5310 - mae: 2.4749 - val_loss: 15.5565 - val_mae: 2.9489\n",
            "Epoch 38/100\n",
            "\u001b[1m11/11\u001b[0m \u001b[32m━━━━━━━━━━━━━━━━━━━━\u001b[0m\u001b[37m\u001b[0m \u001b[1m0s\u001b[0m 15ms/step - loss: 10.5936 - mae: 2.3301 - val_loss: 15.5653 - val_mae: 2.9749\n",
            "Epoch 39/100\n",
            "\u001b[1m11/11\u001b[0m \u001b[32m━━━━━━━━━━━━━━━━━━━━\u001b[0m\u001b[37m\u001b[0m \u001b[1m0s\u001b[0m 16ms/step - loss: 12.1142 - mae: 2.4189 - val_loss: 15.7285 - val_mae: 2.9469\n",
            "Epoch 40/100\n",
            "\u001b[1m11/11\u001b[0m \u001b[32m━━━━━━━━━━━━━━━━━━━━\u001b[0m\u001b[37m\u001b[0m \u001b[1m0s\u001b[0m 10ms/step - loss: 9.9526 - mae: 2.3192 - val_loss: 15.6164 - val_mae: 2.9219\n",
            "Epoch 41/100\n",
            "\u001b[1m11/11\u001b[0m \u001b[32m━━━━━━━━━━━━━━━━━━━━\u001b[0m\u001b[37m\u001b[0m \u001b[1m0s\u001b[0m 8ms/step - loss: 9.4892 - mae: 2.2616 - val_loss: 15.5595 - val_mae: 2.9543\n",
            "Epoch 42/100\n",
            "\u001b[1m11/11\u001b[0m \u001b[32m━━━━━━━━━━━━━━━━━━━━\u001b[0m\u001b[37m\u001b[0m \u001b[1m0s\u001b[0m 9ms/step - loss: 12.2835 - mae: 2.4635 - val_loss: 16.6780 - val_mae: 3.1068\n",
            "Epoch 43/100\n",
            "\u001b[1m11/11\u001b[0m \u001b[32m━━━━━━━━━━━━━━━━━━━━\u001b[0m\u001b[37m\u001b[0m \u001b[1m0s\u001b[0m 8ms/step - loss: 10.0513 - mae: 2.2574 - val_loss: 15.3933 - val_mae: 2.9536\n",
            "Epoch 44/100\n",
            "\u001b[1m11/11\u001b[0m \u001b[32m━━━━━━━━━━━━━━━━━━━━\u001b[0m\u001b[37m\u001b[0m \u001b[1m0s\u001b[0m 9ms/step - loss: 11.9731 - mae: 2.4898 - val_loss: 15.2309 - val_mae: 2.8635\n",
            "Epoch 45/100\n",
            "\u001b[1m11/11\u001b[0m \u001b[32m━━━━━━━━━━━━━━━━━━━━\u001b[0m\u001b[37m\u001b[0m \u001b[1m0s\u001b[0m 8ms/step - loss: 12.5577 - mae: 2.4728 - val_loss: 15.0565 - val_mae: 2.8356\n",
            "Epoch 46/100\n",
            "\u001b[1m11/11\u001b[0m \u001b[32m━━━━━━━━━━━━━━━━━━━━\u001b[0m\u001b[37m\u001b[0m \u001b[1m0s\u001b[0m 9ms/step - loss: 10.2430 - mae: 2.2437 - val_loss: 14.3737 - val_mae: 2.8543\n",
            "Epoch 47/100\n",
            "\u001b[1m11/11\u001b[0m \u001b[32m━━━━━━━━━━━━━━━━━━━━\u001b[0m\u001b[37m\u001b[0m \u001b[1m0s\u001b[0m 8ms/step - loss: 8.3206 - mae: 2.1277 - val_loss: 14.5542 - val_mae: 2.8154\n",
            "Epoch 48/100\n",
            "\u001b[1m11/11\u001b[0m \u001b[32m━━━━━━━━━━━━━━━━━━━━\u001b[0m\u001b[37m\u001b[0m \u001b[1m0s\u001b[0m 11ms/step - loss: 13.2114 - mae: 2.4271 - val_loss: 15.4068 - val_mae: 2.8585\n",
            "Epoch 49/100\n",
            "\u001b[1m11/11\u001b[0m \u001b[32m━━━━━━━━━━━━━━━━━━━━\u001b[0m\u001b[37m\u001b[0m \u001b[1m0s\u001b[0m 8ms/step - loss: 8.6973 - mae: 2.1567 - val_loss: 15.1892 - val_mae: 2.8717\n",
            "Epoch 50/100\n",
            "\u001b[1m11/11\u001b[0m \u001b[32m━━━━━━━━━━━━━━━━━━━━\u001b[0m\u001b[37m\u001b[0m \u001b[1m0s\u001b[0m 9ms/step - loss: 9.6258 - mae: 2.2705 - val_loss: 15.0681 - val_mae: 2.8583\n",
            "Epoch 51/100\n",
            "\u001b[1m11/11\u001b[0m \u001b[32m━━━━━━━━━━━━━━━━━━━━\u001b[0m\u001b[37m\u001b[0m \u001b[1m0s\u001b[0m 8ms/step - loss: 9.1176 - mae: 2.1676 - val_loss: 14.8104 - val_mae: 2.8384\n",
            "Epoch 52/100\n",
            "\u001b[1m11/11\u001b[0m \u001b[32m━━━━━━━━━━━━━━━━━━━━\u001b[0m\u001b[37m\u001b[0m \u001b[1m0s\u001b[0m 9ms/step - loss: 9.2485 - mae: 2.1773 - val_loss: 14.9915 - val_mae: 2.8151\n",
            "Epoch 53/100\n",
            "\u001b[1m11/11\u001b[0m \u001b[32m━━━━━━━━━━━━━━━━━━━━\u001b[0m\u001b[37m\u001b[0m \u001b[1m0s\u001b[0m 8ms/step - loss: 10.7731 - mae: 2.2068 - val_loss: 14.6447 - val_mae: 2.8175\n",
            "Epoch 54/100\n",
            "\u001b[1m11/11\u001b[0m \u001b[32m━━━━━━━━━━━━━━━━━━━━\u001b[0m\u001b[37m\u001b[0m \u001b[1m0s\u001b[0m 8ms/step - loss: 12.4636 - mae: 2.3007 - val_loss: 14.6503 - val_mae: 2.8070\n",
            "Epoch 55/100\n",
            "\u001b[1m11/11\u001b[0m \u001b[32m━━━━━━━━━━━━━━━━━━━━\u001b[0m\u001b[37m\u001b[0m \u001b[1m0s\u001b[0m 9ms/step - loss: 8.8879 - mae: 2.1570 - val_loss: 15.4991 - val_mae: 2.8050\n",
            "Epoch 56/100\n",
            "\u001b[1m11/11\u001b[0m \u001b[32m━━━━━━━━━━━━━━━━━━━━\u001b[0m\u001b[37m\u001b[0m \u001b[1m0s\u001b[0m 11ms/step - loss: 10.0435 - mae: 2.2191 - val_loss: 15.0516 - val_mae: 2.8034\n",
            "Epoch 57/100\n",
            "\u001b[1m11/11\u001b[0m \u001b[32m━━━━━━━━━━━━━━━━━━━━\u001b[0m\u001b[37m\u001b[0m \u001b[1m0s\u001b[0m 12ms/step - loss: 9.8497 - mae: 2.2331 - val_loss: 14.6579 - val_mae: 2.8014\n",
            "Epoch 58/100\n",
            "\u001b[1m11/11\u001b[0m \u001b[32m━━━━━━━━━━━━━━━━━━━━\u001b[0m\u001b[37m\u001b[0m \u001b[1m0s\u001b[0m 9ms/step - loss: 7.7219 - mae: 2.0450 - val_loss: 14.7153 - val_mae: 2.7937\n",
            "Epoch 59/100\n",
            "\u001b[1m11/11\u001b[0m \u001b[32m━━━━━━━━━━━━━━━━━━━━\u001b[0m\u001b[37m\u001b[0m \u001b[1m0s\u001b[0m 12ms/step - loss: 9.3431 - mae: 2.1681 - val_loss: 15.2123 - val_mae: 2.7741\n",
            "Epoch 60/100\n",
            "\u001b[1m11/11\u001b[0m \u001b[32m━━━━━━━━━━━━━━━━━━━━\u001b[0m\u001b[37m\u001b[0m \u001b[1m0s\u001b[0m 8ms/step - loss: 13.0140 - mae: 2.4256 - val_loss: 15.3119 - val_mae: 2.7755\n",
            "Epoch 61/100\n",
            "\u001b[1m11/11\u001b[0m \u001b[32m━━━━━━━━━━━━━━━━━━━━\u001b[0m\u001b[37m\u001b[0m \u001b[1m0s\u001b[0m 8ms/step - loss: 9.9841 - mae: 2.1904 - val_loss: 14.8672 - val_mae: 2.7792\n",
            "Epoch 62/100\n",
            "\u001b[1m11/11\u001b[0m \u001b[32m━━━━━━━━━━━━━━━━━━━━\u001b[0m\u001b[37m\u001b[0m \u001b[1m0s\u001b[0m 9ms/step - loss: 9.3865 - mae: 2.0848 - val_loss: 17.0642 - val_mae: 2.8357\n",
            "Epoch 63/100\n",
            "\u001b[1m11/11\u001b[0m \u001b[32m━━━━━━━━━━━━━━━━━━━━\u001b[0m\u001b[37m\u001b[0m \u001b[1m0s\u001b[0m 10ms/step - loss: 10.4268 - mae: 2.3116 - val_loss: 16.3500 - val_mae: 2.8123\n",
            "Epoch 64/100\n",
            "\u001b[1m11/11\u001b[0m \u001b[32m━━━━━━━━━━━━━━━━━━━━\u001b[0m\u001b[37m\u001b[0m \u001b[1m0s\u001b[0m 9ms/step - loss: 9.7695 - mae: 2.2072 - val_loss: 15.6347 - val_mae: 2.8074\n",
            "Epoch 65/100\n",
            "\u001b[1m11/11\u001b[0m \u001b[32m━━━━━━━━━━━━━━━━━━━━\u001b[0m\u001b[37m\u001b[0m \u001b[1m0s\u001b[0m 9ms/step - loss: 9.5976 - mae: 2.0694 - val_loss: 15.5538 - val_mae: 2.7898\n",
            "Epoch 66/100\n",
            "\u001b[1m11/11\u001b[0m \u001b[32m━━━━━━━━━━━━━━━━━━━━\u001b[0m\u001b[37m\u001b[0m \u001b[1m0s\u001b[0m 9ms/step - loss: 11.8332 - mae: 2.2732 - val_loss: 15.4435 - val_mae: 2.7713\n",
            "Epoch 67/100\n",
            "\u001b[1m11/11\u001b[0m \u001b[32m━━━━━━━━━━━━━━━━━━━━\u001b[0m\u001b[37m\u001b[0m \u001b[1m0s\u001b[0m 8ms/step - loss: 8.5507 - mae: 2.1040 - val_loss: 16.6513 - val_mae: 2.8190\n",
            "Epoch 68/100\n",
            "\u001b[1m11/11\u001b[0m \u001b[32m━━━━━━━━━━━━━━━━━━━━\u001b[0m\u001b[37m\u001b[0m \u001b[1m0s\u001b[0m 9ms/step - loss: 8.1079 - mae: 2.1371 - val_loss: 15.6860 - val_mae: 2.7653\n",
            "Epoch 69/100\n",
            "\u001b[1m11/11\u001b[0m \u001b[32m━━━━━━━━━━━━━━━━━━━━\u001b[0m\u001b[37m\u001b[0m \u001b[1m0s\u001b[0m 9ms/step - loss: 9.4762 - mae: 2.1882 - val_loss: 16.1719 - val_mae: 2.7885\n",
            "Epoch 70/100\n",
            "\u001b[1m11/11\u001b[0m \u001b[32m━━━━━━━━━━━━━━━━━━━━\u001b[0m\u001b[37m\u001b[0m \u001b[1m0s\u001b[0m 9ms/step - loss: 7.5834 - mae: 1.9725 - val_loss: 15.3924 - val_mae: 2.7763\n",
            "Epoch 71/100\n",
            "\u001b[1m11/11\u001b[0m \u001b[32m━━━━━━━━━━━━━━━━━━━━\u001b[0m\u001b[37m\u001b[0m \u001b[1m0s\u001b[0m 10ms/step - loss: 7.8015 - mae: 2.0610 - val_loss: 15.4705 - val_mae: 2.7519\n",
            "Epoch 72/100\n",
            "\u001b[1m11/11\u001b[0m \u001b[32m━━━━━━━━━━━━━━━━━━━━\u001b[0m\u001b[37m\u001b[0m \u001b[1m0s\u001b[0m 9ms/step - loss: 9.7950 - mae: 2.1620 - val_loss: 15.7181 - val_mae: 2.7525\n",
            "Epoch 73/100\n",
            "\u001b[1m11/11\u001b[0m \u001b[32m━━━━━━━━━━━━━━━━━━━━\u001b[0m\u001b[37m\u001b[0m \u001b[1m0s\u001b[0m 9ms/step - loss: 8.4779 - mae: 2.0942 - val_loss: 15.8639 - val_mae: 2.7705\n",
            "Epoch 74/100\n",
            "\u001b[1m11/11\u001b[0m \u001b[32m━━━━━━━━━━━━━━━━━━━━\u001b[0m\u001b[37m\u001b[0m \u001b[1m0s\u001b[0m 8ms/step - loss: 10.7651 - mae: 2.1417 - val_loss: 15.3312 - val_mae: 2.7409\n",
            "Epoch 75/100\n",
            "\u001b[1m11/11\u001b[0m \u001b[32m━━━━━━━━━━━━━━━━━━━━\u001b[0m\u001b[37m\u001b[0m \u001b[1m0s\u001b[0m 9ms/step - loss: 9.4528 - mae: 2.0318 - val_loss: 15.2031 - val_mae: 2.7404\n",
            "Epoch 76/100\n",
            "\u001b[1m11/11\u001b[0m \u001b[32m━━━━━━━━━━━━━━━━━━━━\u001b[0m\u001b[37m\u001b[0m \u001b[1m0s\u001b[0m 9ms/step - loss: 8.0470 - mae: 1.9867 - val_loss: 15.3185 - val_mae: 2.7292\n",
            "Epoch 77/100\n",
            "\u001b[1m11/11\u001b[0m \u001b[32m━━━━━━━━━━━━━━━━━━━━\u001b[0m\u001b[37m\u001b[0m \u001b[1m0s\u001b[0m 8ms/step - loss: 8.2628 - mae: 2.0362 - val_loss: 14.7512 - val_mae: 2.7002\n",
            "Epoch 78/100\n",
            "\u001b[1m11/11\u001b[0m \u001b[32m━━━━━━━━━━━━━━━━━━━━\u001b[0m\u001b[37m\u001b[0m \u001b[1m0s\u001b[0m 8ms/step - loss: 8.3043 - mae: 2.0783 - val_loss: 14.3694 - val_mae: 2.7225\n",
            "Epoch 79/100\n",
            "\u001b[1m11/11\u001b[0m \u001b[32m━━━━━━━━━━━━━━━━━━━━\u001b[0m\u001b[37m\u001b[0m \u001b[1m0s\u001b[0m 13ms/step - loss: 8.1389 - mae: 1.9888 - val_loss: 14.8573 - val_mae: 2.7062\n",
            "Epoch 80/100\n",
            "\u001b[1m11/11\u001b[0m \u001b[32m━━━━━━━━━━━━━━━━━━━━\u001b[0m\u001b[37m\u001b[0m \u001b[1m0s\u001b[0m 9ms/step - loss: 8.2334 - mae: 1.9448 - val_loss: 15.0146 - val_mae: 2.6807\n",
            "Epoch 81/100\n",
            "\u001b[1m11/11\u001b[0m \u001b[32m━━━━━━━━━━━━━━━━━━━━\u001b[0m\u001b[37m\u001b[0m \u001b[1m0s\u001b[0m 8ms/step - loss: 6.1049 - mae: 1.7962 - val_loss: 14.3470 - val_mae: 2.6380\n",
            "Epoch 82/100\n",
            "\u001b[1m11/11\u001b[0m \u001b[32m━━━━━━━━━━━━━━━━━━━━\u001b[0m\u001b[37m\u001b[0m \u001b[1m0s\u001b[0m 8ms/step - loss: 7.3857 - mae: 1.8937 - val_loss: 14.4448 - val_mae: 2.6650\n",
            "Epoch 83/100\n",
            "\u001b[1m11/11\u001b[0m \u001b[32m━━━━━━━━━━━━━━━━━━━━\u001b[0m\u001b[37m\u001b[0m \u001b[1m0s\u001b[0m 8ms/step - loss: 7.3861 - mae: 1.9621 - val_loss: 14.8954 - val_mae: 2.6761\n",
            "Epoch 84/100\n",
            "\u001b[1m11/11\u001b[0m \u001b[32m━━━━━━━━━━━━━━━━━━━━\u001b[0m\u001b[37m\u001b[0m \u001b[1m0s\u001b[0m 8ms/step - loss: 6.6992 - mae: 1.8946 - val_loss: 15.1085 - val_mae: 2.6588\n",
            "Epoch 85/100\n",
            "\u001b[1m11/11\u001b[0m \u001b[32m━━━━━━━━━━━━━━━━━━━━\u001b[0m\u001b[37m\u001b[0m \u001b[1m0s\u001b[0m 8ms/step - loss: 7.3354 - mae: 1.9884 - val_loss: 18.2311 - val_mae: 2.8305\n",
            "Epoch 86/100\n",
            "\u001b[1m11/11\u001b[0m \u001b[32m━━━━━━━━━━━━━━━━━━━━\u001b[0m\u001b[37m\u001b[0m \u001b[1m0s\u001b[0m 9ms/step - loss: 8.9220 - mae: 2.1531 - val_loss: 15.4694 - val_mae: 2.7653\n",
            "Epoch 87/100\n",
            "\u001b[1m11/11\u001b[0m \u001b[32m━━━━━━━━━━━━━━━━━━━━\u001b[0m\u001b[37m\u001b[0m \u001b[1m0s\u001b[0m 10ms/step - loss: 7.3713 - mae: 1.9974 - val_loss: 15.2149 - val_mae: 2.7471\n",
            "Epoch 88/100\n",
            "\u001b[1m11/11\u001b[0m \u001b[32m━━━━━━━━━━━━━━━━━━━━\u001b[0m\u001b[37m\u001b[0m \u001b[1m0s\u001b[0m 9ms/step - loss: 8.1892 - mae: 2.0384 - val_loss: 14.6397 - val_mae: 2.6980\n",
            "Epoch 89/100\n",
            "\u001b[1m11/11\u001b[0m \u001b[32m━━━━━━━━━━━━━━━━━━━━\u001b[0m\u001b[37m\u001b[0m \u001b[1m0s\u001b[0m 8ms/step - loss: 6.7783 - mae: 1.8562 - val_loss: 14.7558 - val_mae: 2.6746\n",
            "Epoch 90/100\n",
            "\u001b[1m11/11\u001b[0m \u001b[32m━━━━━━━━━━━━━━━━━━━━\u001b[0m\u001b[37m\u001b[0m \u001b[1m0s\u001b[0m 12ms/step - loss: 8.5731 - mae: 2.0563 - val_loss: 14.8021 - val_mae: 2.7134\n",
            "Epoch 91/100\n",
            "\u001b[1m11/11\u001b[0m \u001b[32m━━━━━━━━━━━━━━━━━━━━\u001b[0m\u001b[37m\u001b[0m \u001b[1m0s\u001b[0m 8ms/step - loss: 7.6338 - mae: 1.9598 - val_loss: 14.8309 - val_mae: 2.6654\n",
            "Epoch 92/100\n",
            "\u001b[1m11/11\u001b[0m \u001b[32m━━━━━━━━━━━━━━━━━━━━\u001b[0m\u001b[37m\u001b[0m \u001b[1m0s\u001b[0m 12ms/step - loss: 7.9011 - mae: 2.0352 - val_loss: 14.7140 - val_mae: 2.6694\n",
            "Epoch 93/100\n",
            "\u001b[1m11/11\u001b[0m \u001b[32m━━━━━━━━━━━━━━━━━━━━\u001b[0m\u001b[37m\u001b[0m \u001b[1m0s\u001b[0m 9ms/step - loss: 8.3711 - mae: 2.0234 - val_loss: 14.9392 - val_mae: 2.6521\n",
            "Epoch 94/100\n",
            "\u001b[1m11/11\u001b[0m \u001b[32m━━━━━━━━━━━━━━━━━━━━\u001b[0m\u001b[37m\u001b[0m \u001b[1m0s\u001b[0m 10ms/step - loss: 7.4904 - mae: 1.9416 - val_loss: 14.6294 - val_mae: 2.6525\n",
            "Epoch 95/100\n",
            "\u001b[1m11/11\u001b[0m \u001b[32m━━━━━━━━━━━━━━━━━━━━\u001b[0m\u001b[37m\u001b[0m \u001b[1m0s\u001b[0m 9ms/step - loss: 8.4709 - mae: 1.9301 - val_loss: 14.4812 - val_mae: 2.6608\n",
            "Epoch 96/100\n",
            "\u001b[1m11/11\u001b[0m \u001b[32m━━━━━━━━━━━━━━━━━━━━\u001b[0m\u001b[37m\u001b[0m \u001b[1m0s\u001b[0m 8ms/step - loss: 7.1471 - mae: 1.9193 - val_loss: 14.9793 - val_mae: 2.6485\n",
            "Epoch 97/100\n",
            "\u001b[1m11/11\u001b[0m \u001b[32m━━━━━━━━━━━━━━━━━━━━\u001b[0m\u001b[37m\u001b[0m \u001b[1m0s\u001b[0m 12ms/step - loss: 7.5892 - mae: 1.9551 - val_loss: 14.3965 - val_mae: 2.6653\n",
            "Epoch 98/100\n",
            "\u001b[1m11/11\u001b[0m \u001b[32m━━━━━━━━━━━━━━━━━━━━\u001b[0m\u001b[37m\u001b[0m \u001b[1m0s\u001b[0m 8ms/step - loss: 6.2529 - mae: 1.8390 - val_loss: 14.7405 - val_mae: 2.6757\n",
            "Epoch 99/100\n",
            "\u001b[1m11/11\u001b[0m \u001b[32m━━━━━━━━━━━━━━━━━━━━\u001b[0m\u001b[37m\u001b[0m \u001b[1m0s\u001b[0m 8ms/step - loss: 8.0446 - mae: 1.8989 - val_loss: 15.9050 - val_mae: 2.7062\n",
            "Epoch 100/100\n",
            "\u001b[1m11/11\u001b[0m \u001b[32m━━━━━━━━━━━━━━━━━━━━\u001b[0m\u001b[37m\u001b[0m \u001b[1m0s\u001b[0m 13ms/step - loss: 7.3512 - mae: 1.9830 - val_loss: 14.4730 - val_mae: 2.6357\n"
          ]
        }
      ]
    },
    {
      "cell_type": "code",
      "source": [
        "print(history.history.keys())  # Exibe as chaves (nomes) dos valores armazenados no histórico de treinamento.\n",
        "                               # Por exemplo: ['loss', 'mae', 'val_loss', 'val_mae'].\n",
        "\n",
        "print(history.history)  # Exibe o conteúdo completo do histórico de treinamento.\n",
        "                        # Mostra os valores de loss, métricas e validação para cada época.\n"
      ],
      "metadata": {
        "id": "Qri0s6kqpE2q",
        "colab": {
          "base_uri": "https://localhost:8080/"
        },
        "outputId": "82b88bcb-9342-4ce0-fe41-9f0fc027640e"
      },
      "execution_count": 17,
      "outputs": [
        {
          "output_type": "stream",
          "name": "stdout",
          "text": [
            "dict_keys(['loss', 'mae', 'val_loss', 'val_mae'])\n",
            "{'loss': [544.8853759765625, 500.244384765625, 444.2042236328125, 370.88812255859375, 287.368408203125, 194.34634399414062, 122.37034606933594, 78.78305053710938, 59.344444274902344, 49.443702697753906, 41.97119140625, 36.27689743041992, 32.153804779052734, 29.2572078704834, 26.927967071533203, 25.284912109375, 23.761743545532227, 22.636398315429688, 21.636425018310547, 20.818538665771484, 20.000553131103516, 19.225303649902344, 18.574493408203125, 17.999801635742188, 17.194265365600586, 16.712129592895508, 16.17873764038086, 15.819775581359863, 15.435052871704102, 14.874473571777344, 14.491522789001465, 14.185477256774902, 13.8211669921875, 13.400899887084961, 13.130502700805664, 12.81767463684082, 12.543656349182129, 12.285550117492676, 11.977132797241211, 11.786394119262695, 11.62214469909668, 11.950357437133789, 11.572279930114746, 11.087763786315918, 11.111625671386719, 10.867634773254395, 10.594491958618164, 10.787095069885254, 10.65611457824707, 10.357922554016113, 10.268452644348145, 9.995501518249512, 9.90456485748291, 9.884445190429688, 9.857155799865723, 9.763580322265625, 9.524402618408203, 9.521608352661133, 9.365826606750488, 9.648283004760742, 9.281227111816406, 9.299490928649902, 9.357131004333496, 9.146714210510254, 9.116124153137207, 8.981097221374512, 8.974328994750977, 8.9891357421875, 8.89480972290039, 8.831852912902832, 8.677206039428711, 8.719528198242188, 8.74836254119873, 8.641264915466309, 8.42196273803711, 8.392219543457031, 8.320465087890625, 8.357966423034668, 8.4507474899292, 8.397031784057617, 8.339073181152344, 8.285261154174805, 8.184724807739258, 8.087443351745605, 8.521836280822754, 8.588398933410645, 8.077068328857422, 7.859283447265625, 7.866296291351318, 7.835858345031738, 7.768632411956787, 7.8598246574401855, 7.584908962249756, 7.601319313049316, 7.537089824676514, 7.512478351593018, 7.572168350219727, 7.473652362823486, 7.677150249481201, 7.572772026062012], 'mae': [21.447484970092773, 20.358867645263672, 18.946414947509766, 17.02832794189453, 14.606768608093262, 11.602781295776367, 8.794670104980469, 6.87333345413208, 5.814951419830322, 5.19514799118042, 4.720382213592529, 4.3539299964904785, 4.0709357261657715, 3.8453774452209473, 3.6664071083068848, 3.5524985790252686, 3.4467315673828125, 3.3455731868743896, 3.2449769973754883, 3.1822509765625, 3.1320154666900635, 3.079821825027466, 3.014256238937378, 2.954411268234253, 2.8918707370758057, 2.8490939140319824, 2.796119451522827, 2.7424468994140625, 2.722529888153076, 2.7005562782287598, 2.658693790435791, 2.621124267578125, 2.579770565032959, 2.5342347621917725, 2.482924699783325, 2.46419095993042, 2.4670286178588867, 2.4393515586853027, 2.4299798011779785, 2.4262750148773193, 2.400280237197876, 2.4232990741729736, 2.3760151863098145, 2.338805675506592, 2.3608012199401855, 2.269237518310547, 2.2328922748565674, 2.32377552986145, 2.3012776374816895, 2.2431790828704834, 2.210196018218994, 2.200270175933838, 2.1879806518554688, 2.1618034839630127, 2.1953303813934326, 2.201817274093628, 2.144643545150757, 2.1267898082733154, 2.1364903450012207, 2.2087032794952393, 2.1337149143218994, 2.1537692546844482, 2.1990180015563965, 2.1219680309295654, 2.1049702167510986, 2.087472438812256, 2.137392997741699, 2.136350393295288, 2.1399550437927246, 2.100386142730713, 2.0706300735473633, 2.1091959476470947, 2.1295158863067627, 2.103672981262207, 2.0553345680236816, 2.0492632389068604, 2.045016050338745, 2.0098094940185547, 2.021104097366333, 2.032496690750122, 2.0183656215667725, 2.006525754928589, 2.0035979747772217, 1.9938273429870605, 2.1418797969818115, 2.1519041061401367, 2.0209319591522217, 1.9852912425994873, 1.9793052673339844, 1.9751348495483398, 1.959986686706543, 1.9666427373886108, 1.9402107000350952, 1.9531447887420654, 1.9366862773895264, 1.953007459640503, 1.9328570365905762, 1.9112671613693237, 1.9731199741363525, 1.9693769216537476], 'val_loss': [588.5478515625, 535.9238891601562, 467.27117919921875, 380.9779357910156, 281.971435546875, 187.215576171875, 116.91893005371094, 81.2508773803711, 64.78413391113281, 53.996883392333984, 45.588035583496094, 39.858489990234375, 35.397457122802734, 31.56220245361328, 29.138639450073242, 27.139991760253906, 25.594406127929688, 24.153762817382812, 23.18548583984375, 22.130468368530273, 21.40207862854004, 20.82302474975586, 20.309368133544922, 19.546451568603516, 19.10488510131836, 18.67386245727539, 18.24219512939453, 18.002086639404297, 17.68506622314453, 17.496395111083984, 17.009302139282227, 16.665424346923828, 16.11867904663086, 15.72567367553711, 15.449402809143066, 15.482039451599121, 15.556539535522461, 15.565252304077148, 15.72854232788086, 15.616402626037598, 15.559538841247559, 16.678009033203125, 15.393326759338379, 15.230907440185547, 15.056464195251465, 14.373659133911133, 14.554244041442871, 15.406845092773438, 15.189203262329102, 15.068062782287598, 14.810394287109375, 14.99148178100586, 14.644736289978027, 14.65027904510498, 15.499085426330566, 15.051570892333984, 14.65785026550293, 14.71533203125, 15.212345123291016, 15.311884880065918, 14.867234230041504, 17.06417465209961, 16.349998474121094, 15.634664535522461, 15.553765296936035, 15.443546295166016, 16.65129852294922, 15.685977935791016, 16.171945571899414, 15.392414093017578, 15.470460891723633, 15.718059539794922, 15.863889694213867, 15.331202507019043, 15.203076362609863, 15.318496704101562, 14.751182556152344, 14.369425773620605, 14.85731315612793, 15.014646530151367, 14.346972465515137, 14.444811820983887, 14.895408630371094, 15.10848617553711, 18.231128692626953, 15.46937084197998, 15.214881896972656, 14.639732360839844, 14.75576400756836, 14.802064895629883, 14.830883026123047, 14.713957786560059, 14.939193725585938, 14.629402160644531, 14.481180191040039, 14.979323387145996, 14.396517753601074, 14.740494728088379, 15.905011177062988, 14.472960472106934], 'val_mae': [22.443687438964844, 21.21977996826172, 19.57295799255371, 17.332286834716797, 14.445120811462402, 11.176609992980957, 8.319111824035645, 6.890665531158447, 6.038961887359619, 5.447551727294922, 5.026917934417725, 4.703150272369385, 4.436943531036377, 4.221546173095703, 4.110933780670166, 3.9940245151519775, 3.899881362915039, 3.7692909240722656, 3.6927011013031006, 3.6379587650299072, 3.591548204421997, 3.5367984771728516, 3.458962917327881, 3.3894424438476562, 3.3622241020202637, 3.3186516761779785, 3.27059268951416, 3.2153565883636475, 3.172135353088379, 3.1577506065368652, 3.126264810562134, 3.119884490966797, 3.0554614067077637, 3.0047333240509033, 2.9797635078430176, 2.950535535812378, 2.9489309787750244, 2.9749152660369873, 2.946920156478882, 2.9219393730163574, 2.954319715499878, 3.1067583560943604, 2.9536468982696533, 2.8634896278381348, 2.835622549057007, 2.854318618774414, 2.815439224243164, 2.8585236072540283, 2.8717193603515625, 2.858257532119751, 2.8383989334106445, 2.815081834793091, 2.817506790161133, 2.807039976119995, 2.804988145828247, 2.8033652305603027, 2.8014485836029053, 2.7937240600585938, 2.7741076946258545, 2.7755320072174072, 2.7791969776153564, 2.8356502056121826, 2.8122975826263428, 2.8074309825897217, 2.789830446243286, 2.771263837814331, 2.8190457820892334, 2.765270948410034, 2.788501501083374, 2.7763383388519287, 2.7518503665924072, 2.7524545192718506, 2.7705237865448, 2.7408952713012695, 2.740351438522339, 2.729193925857544, 2.7001562118530273, 2.722470998764038, 2.706221103668213, 2.6806795597076416, 2.637965440750122, 2.6649820804595947, 2.676126480102539, 2.6587977409362793, 2.8304927349090576, 2.7653212547302246, 2.747084617614746, 2.69803524017334, 2.674592971801758, 2.713373899459839, 2.665351390838623, 2.669421434402466, 2.652132034301758, 2.6524887084960938, 2.6607866287231445, 2.6484909057617188, 2.6652534008026123, 2.6756651401519775, 2.7061667442321777, 2.6356773376464844]}\n"
          ]
        }
      ]
    },
    {
      "cell_type": "code",
      "source": [
        "loss, mae = model.evaluate(x_test,  # Avalia o modelo usando os dados de teste (x_test).\n",
        "                           y_test)  # Rótulos (labels) correspondentes aos dados de teste (y_test).\n",
        "                                    # Retorna dois valores:\n",
        "                                    # - `loss`: Valor da função de perda (MSE, no caso deste modelo).\n",
        "                                    # - `mae`: Valor da métrica de erro absoluto médio (MAE)."
      ],
      "metadata": {
        "id": "Vbk2ETBO0Zk0",
        "colab": {
          "base_uri": "https://localhost:8080/"
        },
        "outputId": "24d6b38b-dd4f-4c06-ccc3-3f8aed998c44"
      },
      "execution_count": 18,
      "outputs": [
        {
          "output_type": "stream",
          "name": "stdout",
          "text": [
            "\u001b[1m4/4\u001b[0m \u001b[32m━━━━━━━━━━━━━━━━━━━━\u001b[0m\u001b[37m\u001b[0m \u001b[1m0s\u001b[0m 9ms/step - loss: 20.0954 - mae: 2.8931 \n"
          ]
        }
      ]
    },
    {
      "cell_type": "code",
      "source": [
        "plt.rcParams['figure.figsize'] = (12.0, 6.0)  # Define o tamanho da figura do gráfico como 12x6 polegadas.\n",
        "\n",
        "plt.plot(history.history['loss'])  # Plota a curva da função de perda (loss) no conjunto de treino ao longo das épocas.\n",
        "plt.plot(history.history['val_loss'])  # Plota a curva da função de perda (loss) no conjunto de validação ao longo das épocas.\n",
        "\n",
        "plt.legend(['Taxa de Perda',  # Adiciona uma legenda ao gráfico.\n",
        "            'Taxa de Perda (Validacao)'],  # Nomes das curvas na legenda.\n",
        "           loc='upper right',  # Posiciona a legenda no canto superior direito do gráfico.\n",
        "           fontsize='x-large')  # Define o tamanho da fonte da legenda como \"x-large\".\n",
        "\n",
        "plt.xlabel('Epocas de processamento', fontsize=16)  # Define o rótulo do eixo X como \"Épocas de processamento\" com tamanho de fonte 16.\n",
        "plt.ylabel('Valor', fontsize=16)  # Define o rótulo do eixo Y como \"Valor\" com tamanho de fonte 16.\n",
        "\n",
        "plt.title('Taxa de Perda', fontsize=18)  # Define o título do gráfico como \"Taxa de Perda\" com tamanho de fonte 18.\n",
        "\n",
        "plt.show()  # Exibe o gráfico na tela.\n"
      ],
      "metadata": {
        "id": "YKgYFkF24mgB",
        "colab": {
          "base_uri": "https://localhost:8080/",
          "height": 575
        },
        "outputId": "691bf31a-83a6-434a-88a9-73d83df99987"
      },
      "execution_count": 19,
      "outputs": [
        {
          "output_type": "display_data",
          "data": {
            "text/plain": [
              "<Figure size 1200x600 with 1 Axes>"
            ],
            "image/png": "[encoded data removed]"
          },
          "metadata": {}
        }
      ]
    },
    {
      "cell_type": "code",
      "source": [
        "plt.rcParams['figure.figsize'] = (12.0, 6.0)  # Define o tamanho da figura do gráfico como 12x6 polegadas.\n",
        "\n",
        "plt.plot(history.history['mae'])  # Plota a curva do erro absoluto médio (MAE) no conjunto de treino ao longo das épocas.\n",
        "\n",
        "plt.legend(['Erro Absoluto'],  # Adiciona uma legenda ao gráfico com o rótulo \"Erro Absoluto\".\n",
        "           loc='upper right',  # Posiciona a legenda no canto superior direito do gráfico.\n",
        "           fontsize='x-large')  # Define o tamanho da fonte da legenda como \"x-large\".\n",
        "\n",
        "plt.xlabel('Epocas de processamento', fontsize=16)  # Define o rótulo do eixo X como \"Épocas de processamento\" com tamanho de fonte 16.\n",
        "plt.ylabel('Valor', fontsize=16)  # Define o rótulo do eixo Y como \"Valor\" com tamanho de fonte 16.\n",
        "\n",
        "plt.title('Erro Absoluto Médio', fontsize=18)  # Define o título do gráfico como \"Erro Absoluto Médio\" com tamanho de fonte 18.\n",
        "\n",
        "plt.show()  # Exibe o gráfico na tela."
      ],
      "metadata": {
        "id": "MasjbYJe4uIO",
        "colab": {
          "base_uri": "https://localhost:8080/",
          "height": 575
        },
        "outputId": "cab4bbb4-5bea-4fae-ea08-013b2fce55bd"
      },
      "execution_count": 20,
      "outputs": [
        {
          "output_type": "display_data",
          "data": {
            "text/plain": [
              "<Figure size 1200x600 with 1 Axes>"
            ],
            "image/png": "[encoded data removed]"
          },
          "metadata": {}
        }
      ]
    },
    {
      "cell_type": "code",
      "source": [
        "x_new = x_test[:10]  # Seleciona as primeiras 10 amostras do conjunto de teste (x_test).\n",
        "                     # Essas amostras serão usadas para fazer previsões com o modelo.\n",
        "\n",
        "y_pred = model.predict(x_new)  # Usa o modelo treinado para prever os valores de saída (y_pred) para as amostras em x_new.\n",
        "                               # O método `predict` retorna as previsões do modelo."
      ],
      "metadata": {
        "id": "1c4F-1Hf0Znj",
        "colab": {
          "base_uri": "https://localhost:8080/"
        },
        "outputId": "02ea2bb0-ebb4-4dd4-bbf8-f8db77067287"
      },
      "execution_count": 21,
      "outputs": [
        {
          "output_type": "stream",
          "name": "stdout",
          "text": [
            "\u001b[1m1/1\u001b[0m \u001b[32m━━━━━━━━━━━━━━━━━━━━\u001b[0m\u001b[37m\u001b[0m \u001b[1m0s\u001b[0m 78ms/step\n"
          ]
        }
      ]
    },
    {
      "cell_type": "code",
      "source": [
        "print(y_pred[0])  # Exibe a primeira previsão feita pelo modelo.\n",
        "                  # `y_pred` é um array contendo as previsões para todas as amostras em `x_new`.\n",
        "                  # `y_pred[0]` acessa a previsão correspondente à primeira amostra de `x_new`."
      ],
      "metadata": {
        "id": "tR-7IOkE3tQ5",
        "colab": {
          "base_uri": "https://localhost:8080/"
        },
        "outputId": "b735074f-a21c-4298-e6bd-2da62f738636"
      },
      "execution_count": 22,
      "outputs": [
        {
          "output_type": "stream",
          "name": "stdout",
          "text": [
            "[8.289596]\n"
          ]
        }
      ]
    },
    {
      "cell_type": "code",
      "source": [
        "model.save('/content/drive/MyDrive/Colab Notebooks/regressor.h5')  # Salva o modelo completo (arquitetura, pesos e configurações) em um arquivo .h5.\n",
        "                                                                  # O caminho especificado é onde o arquivo será salvo.\n",
        "                                                                  # Isso permite carregar o modelo posteriormente para fazer previsões ou continuar o treinamento.\n",
        "\n",
        "model.save_weights('/content/drive/MyDrive/Colab Notebooks/regressor_weights.weights.h5')  # Salva apenas os pesos do modelo em um arquivo .h5.\n",
        "                                                                                  # Adiciona .weights ao nome do arquivo para corrigir o erro.\n",
        "                                                                                  # O caminho especificado é onde o arquivo será salvo.\n",
        "                                                                                  # Isso é útil se você já tem a arquitetura do modelo e só precisa salvar/carregar os pesos treinados."
      ],
      "metadata": {
        "id": "GXqyDWLesilv",
        "colab": {
          "base_uri": "https://localhost:8080/"
        },
        "outputId": "1aa9871c-9b3d-4b46-945a-2f0f920eab74"
      },
      "execution_count": 23,
      "outputs": [
        {
          "output_type": "stream",
          "name": "stderr",
          "text": [
            "WARNING:absl:You are saving your model as an HDF5 file via `model.save()` or `keras.saving.save_model(model)`. This file format is considered legacy. We recommend using instead the native Keras format, e.g. `model.save('my_model.keras')` or `keras.saving.save_model(model, 'my_model.keras')`. \n"
          ]
        }
      ]
    },
    {
      "cell_type": "code",
      "source": [
        "model = Sequential()  # Cria uma instância de um modelo sequencial vazio.\n",
        "                     # Um modelo sequencial é uma pilha linear de camadas.\n",
        "\n",
        "model = load_model('/content/drive/MyDrive/Colab Notebooks/regressor.h5',\n",
        "                   custom_objects={'mse': MeanSquaredError()})  # Carrega o modelo salvo anteriormente a partir do arquivo .h5.\n",
        "                                                                          # Isso inclui a arquitetura do modelo, os pesos e as configurações de treinamento.\n",
        "\n",
        "model.load_weights('/content/drive/MyDrive/Colab Notebooks/regressor_weights.weights.h5')  # Carrega apenas os pesos do modelo a partir do arquivo .h5.\n",
        "                                                                                  # Isso é útil se você já tem a arquitetura do modelo definida e só precisa carregar os pesos treinados.\n",
        "\n",
        "#nova_amostra = '/content/drive/MyDrive/arquivo.ext'  # Define o caminho para um arquivo contendo uma nova amostra de dados.\n",
        "                                                     # Este trecho está comentado, então não será executado.\n",
        "\n",
        "#resultado_teste = model.predict(nova_amostra)  # Usa o modelo carregado para fazer previsões na nova amostra.\n",
        "                                               # Este trecho está comentado, então não será executado.\n",
        "\n",
        "#print(resultado_teste)  # Exibe o resultado da previsão feita pelo modelo.\n",
        "                         # Este trecho está comentado, então não será executado."
      ],
      "metadata": {
        "id": "Kojatxzos0fl",
        "colab": {
          "base_uri": "https://localhost:8080/"
        },
        "outputId": "10f8f9ed-a0b9-4c6c-b476-580ed3c2dc2e"
      },
      "execution_count": null,
      "outputs": [
        {
          "output_type": "stream",
          "name": "stderr",
          "text": [
            "WARNING:absl:Compiled the loaded model, but the compiled metrics have yet to be built. `model.compile_metrics` will be empty until you train or evaluate the model.\n",
            "/usr/local/lib/python3.11/dist-packages/keras/src/saving/saving_lib.py:757: UserWarning: Skipping variable loading for optimizer 'adam', because it has 2 variables whereas the saved optimizer has 14 variables. \n",
            "  saveable.load_own_variables(weights_store.get(inner_path))\n"
          ]
        }
      ]
    }
  ]
}